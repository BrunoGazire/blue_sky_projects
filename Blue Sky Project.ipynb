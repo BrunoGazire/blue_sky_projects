{
 "cells": [
  {
   "cell_type": "code",
   "execution_count": null,
   "id": "02ee37cd",
   "metadata": {},
   "outputs": [],
   "source": [
    "!pip install pandas \n",
    "!pip install numpy"
   ]
  },
  {
   "cell_type": "code",
   "execution_count": 1,
   "id": "7b1ffe79",
   "metadata": {},
   "outputs": [],
   "source": [
    "import pandas as pd\n",
    "import numpy as np"
   ]
  },
  {
   "cell_type": "code",
   "execution_count": 3,
   "id": "f13bf308",
   "metadata": {},
   "outputs": [],
   "source": [
    "data1 = pd.read_csv(\"All_Seasson_Basics_Spring2021.csv\")"
   ]
  },
  {
   "cell_type": "code",
   "execution_count": 4,
   "id": "39fc3852",
   "metadata": {},
   "outputs": [],
   "source": [
    "data2 = pd.read_csv(\"Basics_SS_Spring2021.csv\")\n"
   ]
  },
  {
   "cell_type": "code",
   "execution_count": 5,
   "id": "41d4bdc8",
   "metadata": {},
   "outputs": [],
   "source": [
    "data3 = pd.read_csv(\"Basics_FW_Spring2021.csv\")"
   ]
  },
  {
   "cell_type": "code",
   "execution_count": 6,
   "id": "305e74e2",
   "metadata": {},
   "outputs": [],
   "source": [
    "df_allSeasson = pd.DataFrame(data1)\n",
    "df_SS = pd.DataFrame(data2)\n",
    "df_FW = pd.DataFrame(data3)\n"
   ]
  },
  {
   "cell_type": "code",
   "execution_count": null,
   "id": "ecc98873",
   "metadata": {},
   "outputs": [],
   "source": [
    "df_allSeasson.describe()"
   ]
  },
  {
   "cell_type": "code",
   "execution_count": null,
   "id": "e268319a",
   "metadata": {},
   "outputs": [],
   "source": [
    "df_SS.describe()"
   ]
  },
  {
   "cell_type": "code",
   "execution_count": null,
   "id": "f3a5c2ec",
   "metadata": {},
   "outputs": [],
   "source": [
    "df_FW.describe()"
   ]
  },
  {
   "cell_type": "code",
   "execution_count": null,
   "id": "7eee592e",
   "metadata": {},
   "outputs": [],
   "source": [
    "df_FW.columns"
   ]
  },
  {
   "cell_type": "code",
   "execution_count": null,
   "id": "4c588d6a",
   "metadata": {},
   "outputs": [],
   "source": [
    "df_FW = df_FW.rename(columns = {\"Sales (gross)\" : \"Sales\", \"Variant\" : \"Sizes\" })"
   ]
  },
  {
   "cell_type": "code",
   "execution_count": null,
   "id": "53b0dd8f",
   "metadata": {},
   "outputs": [],
   "source": [
    "df_FW_grouped = df_FW.groupby(\"Product\").sum(\"Sales\").sort_values(by=[\"Sales\"], ascending=False)\n",
    "df_FW_grouped.describe()"
   ]
  },
  {
   "cell_type": "code",
   "execution_count": null,
   "id": "0310a3d9",
   "metadata": {},
   "outputs": [],
   "source": [
    "df_FW_grouped.head(15)"
   ]
  },
  {
   "cell_type": "code",
   "execution_count": null,
   "id": "194fc836",
   "metadata": {},
   "outputs": [],
   "source": [
    "df_SS = df_SS.rename(columns = {\"Sales (gross)\" : \"Sales\", \"Variant\" : \"Sizes\" })\n",
    "df_SS_grouped = df_SS.groupby(\"Product\").sum(\"Sales\").sort_values(by=[\"Sales\"], ascending=False)\n",
    "df_SS_grouped.describe()"
   ]
  },
  {
   "cell_type": "code",
   "execution_count": null,
   "id": "6efca295",
   "metadata": {},
   "outputs": [],
   "source": [
    "\n",
    "df_SS_grouped.head(15)"
   ]
  },
  {
   "cell_type": "code",
   "execution_count": null,
   "id": "458d0f9a",
   "metadata": {},
   "outputs": [],
   "source": [
    "df_allSeasson = df_allSeasson.rename(columns = {\"Sales (gross)\" : \"Sales\", \"Variant\" : \"Sizes\" })\n",
    "df_allSeasson_grouped = df_allSeasson.groupby(\"Product\").sum(\"Sales\").sort_values(by=[\"Sales\"], ascending=False)\n",
    "df_allSeasson_grouped.describe()"
   ]
  },
  {
   "cell_type": "code",
   "execution_count": null,
   "id": "8bf4425b",
   "metadata": {},
   "outputs": [],
   "source": [
    "df_allSeasson_grouped.head(15)"
   ]
  },
  {
   "cell_type": "code",
   "execution_count": null,
   "id": "9e92d670",
   "metadata": {},
   "outputs": [],
   "source": [
    "df_allSeasson_grouped.sort_values(by = [\"Sales\"], ascending = False).head(15)"
   ]
  },
  {
   "cell_type": "code",
   "execution_count": null,
   "id": "fda27a08",
   "metadata": {},
   "outputs": [],
   "source": [
    "df_SS_grouped.sort_values(by = [\"Refunds\"], ascending = False).head(15)"
   ]
  },
  {
   "cell_type": "code",
   "execution_count": null,
   "id": "b57c82be",
   "metadata": {},
   "outputs": [],
   "source": [
    "df_FW_grouped.sort_values(by = [\"Refunds\"], ascending = False).head(15)"
   ]
  },
  {
   "cell_type": "code",
   "execution_count": 9,
   "id": "d63d863a",
   "metadata": {},
   "outputs": [],
   "source": [
    "df_SS = df_SS.rename(columns = {\"Sales (gross)\" : \"Sales\", \"Variant\" : \"Sizes\"})"
   ]
  },
  {
   "cell_type": "code",
   "execution_count": 10,
   "id": "c38d1559",
   "metadata": {},
   "outputs": [
    {
     "data": {
      "text/plain": [
       "Index(['Vendor', 'Product', 'Sizes', 'SKU', 'Product Type', 'Price', 'Stock',\n",
       "       'Sales', 'Refunds'],\n",
       "      dtype='object')"
      ]
     },
     "execution_count": 10,
     "metadata": {},
     "output_type": "execute_result"
    }
   ],
   "source": [
    "df_SS.columns"
   ]
  },
  {
   "cell_type": "code",
   "execution_count": 11,
   "id": "f3e4d883",
   "metadata": {},
   "outputs": [],
   "source": [
    "df_SS = df_SS[[\"Product\", \"Sizes\", \"Stock\", \"Sales\"]]"
   ]
  },
  {
   "cell_type": "code",
   "execution_count": 15,
   "id": "0f1a5441",
   "metadata": {},
   "outputs": [
    {
     "data": {
      "text/html": [
       "<div>\n",
       "<style scoped>\n",
       "    .dataframe tbody tr th:only-of-type {\n",
       "        vertical-align: middle;\n",
       "    }\n",
       "\n",
       "    .dataframe tbody tr th {\n",
       "        vertical-align: top;\n",
       "    }\n",
       "\n",
       "    .dataframe thead th {\n",
       "        text-align: right;\n",
       "    }\n",
       "</style>\n",
       "<table border=\"1\" class=\"dataframe\">\n",
       "  <thead>\n",
       "    <tr style=\"text-align: right;\">\n",
       "      <th></th>\n",
       "      <th>Stock</th>\n",
       "      <th>Sales</th>\n",
       "    </tr>\n",
       "    <tr>\n",
       "      <th>Product</th>\n",
       "      <th></th>\n",
       "      <th></th>\n",
       "    </tr>\n",
       "  </thead>\n",
       "  <tbody>\n",
       "    <tr>\n",
       "      <th>Riley Capri, Black, Bamboo</th>\n",
       "      <td>2627</td>\n",
       "      <td>772</td>\n",
       "    </tr>\n",
       "    <tr>\n",
       "      <th>Jazz Tank, Winter White, Bamboo</th>\n",
       "      <td>369</td>\n",
       "      <td>426</td>\n",
       "    </tr>\n",
       "    <tr>\n",
       "      <th>Tessa Tee, Black, Bamboo</th>\n",
       "      <td>501</td>\n",
       "      <td>354</td>\n",
       "    </tr>\n",
       "    <tr>\n",
       "      <th>Riley Capri, Indigo, Bamboo</th>\n",
       "      <td>913</td>\n",
       "      <td>319</td>\n",
       "    </tr>\n",
       "    <tr>\n",
       "      <th>Gaylene Capri, Black, Bamboo</th>\n",
       "      <td>710</td>\n",
       "      <td>296</td>\n",
       "    </tr>\n",
       "    <tr>\n",
       "      <th>Susan Capri, Black, Bamboo</th>\n",
       "      <td>455</td>\n",
       "      <td>276</td>\n",
       "    </tr>\n",
       "    <tr>\n",
       "      <th>Magna Skort, Black, Bamboo</th>\n",
       "      <td>702</td>\n",
       "      <td>251</td>\n",
       "    </tr>\n",
       "    <tr>\n",
       "      <th>Melly Skort, Indigo, Bamboo</th>\n",
       "      <td>747</td>\n",
       "      <td>235</td>\n",
       "    </tr>\n",
       "    <tr>\n",
       "      <th>Tessa Tee, Winter White, Bamboo</th>\n",
       "      <td>551</td>\n",
       "      <td>224</td>\n",
       "    </tr>\n",
       "    <tr>\n",
       "      <th>Riley Capri, Graphite, Bamboo</th>\n",
       "      <td>713</td>\n",
       "      <td>207</td>\n",
       "    </tr>\n",
       "    <tr>\n",
       "      <th>Riley Capri, White, Bamboo</th>\n",
       "      <td>652</td>\n",
       "      <td>192</td>\n",
       "    </tr>\n",
       "    <tr>\n",
       "      <th>Riley Capri, Khaki, Bamboo</th>\n",
       "      <td>748</td>\n",
       "      <td>187</td>\n",
       "    </tr>\n",
       "    <tr>\n",
       "      <th>Melly Skort, Black, Bamboo</th>\n",
       "      <td>339</td>\n",
       "      <td>178</td>\n",
       "    </tr>\n",
       "    <tr>\n",
       "      <th>Nelly S/S Dress, Indigo, Bamboo</th>\n",
       "      <td>553</td>\n",
       "      <td>165</td>\n",
       "    </tr>\n",
       "    <tr>\n",
       "      <th>Leslie Shorts, Black, Bamboo</th>\n",
       "      <td>482</td>\n",
       "      <td>164</td>\n",
       "    </tr>\n",
       "    <tr>\n",
       "      <th>Tessa Tee, Violet, Bamboo</th>\n",
       "      <td>567</td>\n",
       "      <td>160</td>\n",
       "    </tr>\n",
       "    <tr>\n",
       "      <th>Tessa Tee, Indigo, Bamboo</th>\n",
       "      <td>343</td>\n",
       "      <td>157</td>\n",
       "    </tr>\n",
       "    <tr>\n",
       "      <th>Spirit Dress, Black, Bamboo</th>\n",
       "      <td>292</td>\n",
       "      <td>132</td>\n",
       "    </tr>\n",
       "    <tr>\n",
       "      <th>Yoga Capri, Black, Bamboo</th>\n",
       "      <td>439</td>\n",
       "      <td>116</td>\n",
       "    </tr>\n",
       "    <tr>\n",
       "      <th>Tessa Tee, Lipstick, Bamboo</th>\n",
       "      <td>416</td>\n",
       "      <td>115</td>\n",
       "    </tr>\n",
       "  </tbody>\n",
       "</table>\n",
       "</div>"
      ],
      "text/plain": [
       "                                 Stock  Sales\n",
       "Product                                      \n",
       "Riley Capri, Black, Bamboo        2627    772\n",
       "Jazz Tank, Winter White, Bamboo    369    426\n",
       "Tessa Tee, Black, Bamboo           501    354\n",
       "Riley Capri, Indigo, Bamboo        913    319\n",
       "Gaylene Capri, Black, Bamboo       710    296\n",
       "Susan Capri, Black, Bamboo         455    276\n",
       "Magna Skort, Black, Bamboo         702    251\n",
       "Melly Skort, Indigo, Bamboo        747    235\n",
       "Tessa Tee, Winter White, Bamboo    551    224\n",
       "Riley Capri, Graphite, Bamboo      713    207\n",
       "Riley Capri, White, Bamboo         652    192\n",
       "Riley Capri, Khaki, Bamboo         748    187\n",
       "Melly Skort, Black, Bamboo         339    178\n",
       "Nelly S/S Dress, Indigo, Bamboo    553    165\n",
       "Leslie Shorts, Black, Bamboo       482    164\n",
       "Tessa Tee, Violet, Bamboo          567    160\n",
       "Tessa Tee, Indigo, Bamboo          343    157\n",
       "Spirit Dress, Black, Bamboo        292    132\n",
       "Yoga Capri, Black, Bamboo          439    116\n",
       "Tessa Tee, Lipstick, Bamboo        416    115"
      ]
     },
     "execution_count": 15,
     "metadata": {},
     "output_type": "execute_result"
    }
   ],
   "source": [
    "df_SS.groupby(\"Product\").sum(\"Sales\").sort_values(by = [\"Sales\"], ascending = False).head(20)"
   ]
  },
  {
   "cell_type": "code",
   "execution_count": 18,
   "id": "0e04b54a",
   "metadata": {},
   "outputs": [],
   "source": [
    "data = pd.read_csv(\"Basics_SS_Winter2020-2021.csv\")"
   ]
  },
  {
   "cell_type": "code",
   "execution_count": 19,
   "id": "4fdec710",
   "metadata": {},
   "outputs": [],
   "source": [
    "df_SS_Winter = pd.DataFrame(data)"
   ]
  },
  {
   "cell_type": "code",
   "execution_count": 22,
   "id": "3370c6a6",
   "metadata": {},
   "outputs": [],
   "source": [
    "df_SS_Winter = df_SS_Winter.rename(columns = {\"Sales (gross)\" : \"Sales\", \"Variant\" : \"Sizes\"})\n",
    "df_SS_Winter = df_SS_Winter[[\"Product\", \"Sizes\", \"Stock\", \"Sales\"]]\n"
   ]
  },
  {
   "cell_type": "code",
   "execution_count": 23,
   "id": "a47fd281",
   "metadata": {},
   "outputs": [
    {
     "data": {
      "text/html": [
       "<div>\n",
       "<style scoped>\n",
       "    .dataframe tbody tr th:only-of-type {\n",
       "        vertical-align: middle;\n",
       "    }\n",
       "\n",
       "    .dataframe tbody tr th {\n",
       "        vertical-align: top;\n",
       "    }\n",
       "\n",
       "    .dataframe thead th {\n",
       "        text-align: right;\n",
       "    }\n",
       "</style>\n",
       "<table border=\"1\" class=\"dataframe\">\n",
       "  <thead>\n",
       "    <tr style=\"text-align: right;\">\n",
       "      <th></th>\n",
       "      <th>Stock</th>\n",
       "      <th>Sales</th>\n",
       "    </tr>\n",
       "    <tr>\n",
       "      <th>Product</th>\n",
       "      <th></th>\n",
       "      <th></th>\n",
       "    </tr>\n",
       "  </thead>\n",
       "  <tbody>\n",
       "    <tr>\n",
       "      <th>Riley Capri, Black, Bamboo</th>\n",
       "      <td>2627</td>\n",
       "      <td>132</td>\n",
       "    </tr>\n",
       "    <tr>\n",
       "      <th>Margorie Top, Black, Bamboo</th>\n",
       "      <td>64</td>\n",
       "      <td>56</td>\n",
       "    </tr>\n",
       "    <tr>\n",
       "      <th>Riley Capri, Graphite, Bamboo</th>\n",
       "      <td>713</td>\n",
       "      <td>55</td>\n",
       "    </tr>\n",
       "    <tr>\n",
       "      <th>Riley Capri, Indigo, Bamboo</th>\n",
       "      <td>913</td>\n",
       "      <td>53</td>\n",
       "    </tr>\n",
       "    <tr>\n",
       "      <th>Gaylene Capri, Black, Bamboo</th>\n",
       "      <td>710</td>\n",
       "      <td>43</td>\n",
       "    </tr>\n",
       "    <tr>\n",
       "      <th>Nelly S/S Dress, Indigo, Bamboo</th>\n",
       "      <td>553</td>\n",
       "      <td>37</td>\n",
       "    </tr>\n",
       "    <tr>\n",
       "      <th>Tessa Tee, Black, Bamboo</th>\n",
       "      <td>501</td>\n",
       "      <td>36</td>\n",
       "    </tr>\n",
       "    <tr>\n",
       "      <th>Magna Skort, Black, Bamboo</th>\n",
       "      <td>702</td>\n",
       "      <td>32</td>\n",
       "    </tr>\n",
       "    <tr>\n",
       "      <th>Tessa Tee, Lipstick, Bamboo</th>\n",
       "      <td>416</td>\n",
       "      <td>31</td>\n",
       "    </tr>\n",
       "    <tr>\n",
       "      <th>Tessa Tee, Indigo, Bamboo</th>\n",
       "      <td>343</td>\n",
       "      <td>25</td>\n",
       "    </tr>\n",
       "    <tr>\n",
       "      <th>Landon Pant, Black, Linen Bamboo</th>\n",
       "      <td>387</td>\n",
       "      <td>25</td>\n",
       "    </tr>\n",
       "    <tr>\n",
       "      <th>Susan Capri, Black, Bamboo</th>\n",
       "      <td>455</td>\n",
       "      <td>24</td>\n",
       "    </tr>\n",
       "    <tr>\n",
       "      <th>Yoga Capri, Black, Bamboo</th>\n",
       "      <td>439</td>\n",
       "      <td>24</td>\n",
       "    </tr>\n",
       "    <tr>\n",
       "      <th>Lanai Dress, Black, Bamboo</th>\n",
       "      <td>408</td>\n",
       "      <td>23</td>\n",
       "    </tr>\n",
       "    <tr>\n",
       "      <th>Lanai Short Sleeve Dress, Black, Bamboo</th>\n",
       "      <td>397</td>\n",
       "      <td>23</td>\n",
       "    </tr>\n",
       "    <tr>\n",
       "      <th>Spirit Dress, Lipstick, Bamboo</th>\n",
       "      <td>45</td>\n",
       "      <td>22</td>\n",
       "    </tr>\n",
       "    <tr>\n",
       "      <th>Spirit Dress, Charcoal, Bamboo</th>\n",
       "      <td>138</td>\n",
       "      <td>22</td>\n",
       "    </tr>\n",
       "    <tr>\n",
       "      <th>Tessa Tee, Winter White, Bamboo</th>\n",
       "      <td>551</td>\n",
       "      <td>22</td>\n",
       "    </tr>\n",
       "    <tr>\n",
       "      <th>Riley Capri, Khaki, Bamboo</th>\n",
       "      <td>748</td>\n",
       "      <td>21</td>\n",
       "    </tr>\n",
       "    <tr>\n",
       "      <th>Leslie Shorts, Black, Bamboo</th>\n",
       "      <td>482</td>\n",
       "      <td>21</td>\n",
       "    </tr>\n",
       "  </tbody>\n",
       "</table>\n",
       "</div>"
      ],
      "text/plain": [
       "                                         Stock  Sales\n",
       "Product                                              \n",
       "Riley Capri, Black, Bamboo                2627    132\n",
       "Margorie Top, Black, Bamboo                 64     56\n",
       "Riley Capri, Graphite, Bamboo              713     55\n",
       "Riley Capri, Indigo, Bamboo                913     53\n",
       "Gaylene Capri, Black, Bamboo               710     43\n",
       "Nelly S/S Dress, Indigo, Bamboo            553     37\n",
       "Tessa Tee, Black, Bamboo                   501     36\n",
       "Magna Skort, Black, Bamboo                 702     32\n",
       "Tessa Tee, Lipstick, Bamboo                416     31\n",
       "Tessa Tee, Indigo, Bamboo                  343     25\n",
       "Landon Pant, Black, Linen Bamboo           387     25\n",
       "Susan Capri, Black, Bamboo                 455     24\n",
       "Yoga Capri, Black, Bamboo                  439     24\n",
       "Lanai Dress, Black, Bamboo                 408     23\n",
       "Lanai Short Sleeve Dress, Black, Bamboo    397     23\n",
       "Spirit Dress, Lipstick, Bamboo              45     22\n",
       "Spirit Dress, Charcoal, Bamboo             138     22\n",
       "Tessa Tee, Winter White, Bamboo            551     22\n",
       "Riley Capri, Khaki, Bamboo                 748     21\n",
       "Leslie Shorts, Black, Bamboo               482     21"
      ]
     },
     "execution_count": 23,
     "metadata": {},
     "output_type": "execute_result"
    }
   ],
   "source": [
    "df_SS_Winter.groupby(\"Product\").sum(\"Sales\").sort_values(by = [\"Sales\"], ascending = False).head(20)"
   ]
  },
  {
   "cell_type": "code",
   "execution_count": 24,
   "id": "8604e7de",
   "metadata": {},
   "outputs": [],
   "source": [
    "df_SS_Winter.to_csv(\"Spring_Basics_In_Winter.csv\")"
   ]
  },
  {
   "cell_type": "code",
   "execution_count": 25,
   "id": "1edd556e",
   "metadata": {},
   "outputs": [],
   "source": [
    "df_SS.to_csv(\"Spring_Basics_In_Spring.csv\")"
   ]
  },
  {
   "cell_type": "code",
   "execution_count": null,
   "id": "2586251f",
   "metadata": {},
   "outputs": [],
   "source": []
  }
 ],
 "metadata": {
  "kernelspec": {
   "display_name": "Python 3",
   "language": "python",
   "name": "python3"
  },
  "language_info": {
   "codemirror_mode": {
    "name": "ipython",
    "version": 3
   },
   "file_extension": ".py",
   "mimetype": "text/x-python",
   "name": "python",
   "nbconvert_exporter": "python",
   "pygments_lexer": "ipython3",
   "version": "3.8.8"
  }
 },
 "nbformat": 4,
 "nbformat_minor": 5
}
